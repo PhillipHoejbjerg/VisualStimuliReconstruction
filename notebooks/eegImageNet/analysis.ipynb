{
 "cells": [
  {
   "cell_type": "code",
   "execution_count": 1,
   "metadata": {},
   "outputs": [],
   "source": [
    "# Imports\n",
    "import mne\n",
    "from types import SimpleNamespace\n",
    "\n",
    "from utils import load_MNE, load_data, get_loaders, get_args, get_mne_info\n",
    "\n",
    "import matplotlib.pyplot as plt"
   ]
  },
  {
   "cell_type": "code",
   "execution_count": null,
   "metadata": {},
   "outputs": [],
   "source": [
    "_info = get_mne_info()\n",
    "\n",
    "# Load data for all subjects\n",
    "\n",
    "data = load_data( get_args( subject = -1 ) )\n",
    "raw = load_MNE( data )"
   ]
  },
  {
   "cell_type": "code",
   "execution_count": null,
   "metadata": {},
   "outputs": [],
   "source": [
    "# Plot joint-data\n",
    "raw.average().plot_joint(\n",
    "    times=\"peaks\", title=\"All subjects, all classes, all trials\", show=False\n",
    ")\n",
    "plt.savefig(\"all_subjects_all_classes_all_trials.png\")"
   ]
  },
  {
   "cell_type": "markdown",
   "metadata": {},
   "source": [
    "# Data Visualization"
   ]
  },
  {
   "cell_type": "code",
   "execution_count": null,
   "metadata": {},
   "outputs": [],
   "source": [
    "for subject in range(0, 8):\n",
    "    raw_class = load_MNE(get_args(subject = subject, unsqueeze = False), mne_info = _info)\n",
    "    raw_class.average().plot_joint(\n",
    "        times=\"peaks\", title=f\"Subject {subject}\", show=False\n",
    "    )\n",
    "    plt.savefig(f\"../../figures/analysis/EEG-ImageNet/subjects/Subject_{subject}.png\")"
   ]
  },
  {
   "cell_type": "code",
   "execution_count": null,
   "metadata": {},
   "outputs": [],
   "source": [
    "from utils import parse_class_dict\n",
    "import os\n",
    "\n",
    "label2class = parse_class_dict(os.path.join(get_args().dataset_dir, \"synset_map_en.txt\"))"
   ]
  },
  {
   "cell_type": "code",
   "execution_count": null,
   "metadata": {},
   "outputs": [],
   "source": [
    "for class_name in label2class.values():\n",
    "    raw_class = load_MNE(get_args(class_label = class_name[0]), mne_info = _info)\n",
    "    raw_class.average().plot_joint(\n",
    "        times=\"peaks\", title=f\"Class {class_name[0]}\", show=False\n",
    "    )\n",
    "    plt.savefig(f\"../analysis/EEG-ImageNet/classes/Class_{class_name[0]}.png\")"
   ]
  },
  {
   "cell_type": "markdown",
   "metadata": {},
   "source": [
    "### Thoughts: \n",
    "Occipital lobe is used first for seeing the object, then the frontal lobe is used for thinking of said object. "
   ]
  },
  {
   "cell_type": "code",
   "execution_count": 2,
   "metadata": {},
   "outputs": [
    {
     "name": "stdout",
     "output_type": "stream",
     "text": [
      "Power for entries: 0:1000\n"
     ]
    }
   ],
   "source": [
    "for subject in range(0, 8):\n",
    "    loaders = get_loaders( get_args(subject=subject, spectrograms = True) )"
   ]
  },
  {
   "cell_type": "code",
   "execution_count": null,
   "metadata": {},
   "outputs": [],
   "source": [
    "next(iter(loaders['train']))[0].shape # no its missing channels"
   ]
  },
  {
   "cell_type": "code",
   "execution_count": null,
   "metadata": {},
   "outputs": [],
   "source": []
  }
 ],
 "metadata": {
  "kernelspec": {
   "display_name": "master",
   "language": "python",
   "name": "python3"
  },
  "language_info": {
   "codemirror_mode": {
    "name": "ipython",
    "version": 3
   },
   "file_extension": ".py",
   "mimetype": "text/x-python",
   "name": "python",
   "nbconvert_exporter": "python",
   "pygments_lexer": "ipython3",
   "version": "3.11.7"
  }
 },
 "nbformat": 4,
 "nbformat_minor": 2
}
